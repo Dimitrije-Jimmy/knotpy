{
 "cells": [
  {
   "cell_type": "code",
   "execution_count": 15,
   "metadata": {
    "collapsed": true
   },
   "outputs": [
    {
     "name": "stdout",
     "output_type": "stream",
     "text": [
      "({0}, {2}, {3})\n",
      "({0, 1}, {3}, {2})\n",
      "({2}, {0, 1}, {3})\n",
      "({2, 3}, {3}, {0, 1})\n",
      "({3, 4}, {0, 1}, {2, 3})\n",
      "({3, 4, 5}, {2, 3}, {0, 1})\n"
     ]
    }
   ],
   "source": [
    "from itertools import permutations\n",
    "d1 = {0}\n",
    "d2 = {2}\n",
    "d3 = {3}\n",
    "\n",
    "def zz(d1,d2,d3):\n",
    "    return enumerate(permutations([d1, d2, d3]))\n",
    "for i, x in zz(d1, d2, d3):\n",
    "    x[0].add(i)\n",
    "    print(x)"
   ]
  },
  {
   "cell_type": "code",
   "execution_count": 9,
   "outputs": [
    {
     "data": {
      "text/plain": "{0, 1}"
     },
     "execution_count": 9,
     "metadata": {},
     "output_type": "execute_result"
    }
   ],
   "source": [
    "d1"
   ],
   "metadata": {
    "collapsed": false
   }
  },
  {
   "cell_type": "code",
   "execution_count": 2,
   "outputs": [
    {
     "data": {
      "text/plain": "2"
     },
     "execution_count": 1,
     "metadata": {},
     "output_type": "execute_result"
    },
    {
     "data": {
      "text/plain": "2"
     },
     "execution_count": 2,
     "metadata": {},
     "output_type": "execute_result"
    }
   ],
   "source": [
    "1+1"
   ],
   "metadata": {
    "collapsed": false,
    "ExecuteTime": {
     "start_time": "2023-03-31T23:15:26.330900Z",
     "end_time": "2023-03-31T23:15:26.341671Z"
    }
   }
  },
  {
   "cell_type": "code",
   "execution_count": 16,
   "outputs": [
    {
     "name": "stdout",
     "output_type": "stream",
     "text": [
      "4\n",
      "{'c': 23, 'd': 2}\n",
      "***\n",
      "4\n",
      "b\n",
      "{'c': 23, 'd': 2}\n"
     ]
    }
   ],
   "source": [
    "def x(a, b, **attr):\n",
    "    print(a)\n",
    "    print(b)\n",
    "    print(attr)\n",
    "\n",
    "def y(a, **attr):\n",
    "    print(a)\n",
    "    print(attr)\n",
    "    print(\"***\")\n",
    "    x(a,'b', **attr)\n",
    "\n",
    "y(4,c=23, d=2)"
   ],
   "metadata": {
    "collapsed": false,
    "ExecuteTime": {
     "start_time": "2023-04-01T22:08:51.524172Z",
     "end_time": "2023-04-01T22:08:51.535701Z"
    }
   }
  },
  {
   "cell_type": "code",
   "execution_count": 19,
   "outputs": [
    {
     "name": "stdout",
     "output_type": "stream",
     "text": [
      "8 {'name': 'y'}\n"
     ]
    }
   ],
   "source": [
    "def x(a, **attr):\n",
    "    if \"framing\" in attr:\n",
    "        f = attr[\"framing\"]\n",
    "        del attr[\"framing\"]\n",
    "    print(a, attr)\n",
    "\n",
    "x(8, name=\"y\", framing=17)"
   ],
   "metadata": {
    "collapsed": false,
    "ExecuteTime": {
     "start_time": "2023-04-02T09:23:18.836032Z",
     "end_time": "2023-04-02T09:23:18.852710Z"
    }
   }
  },
  {
   "cell_type": "code",
   "execution_count": null,
   "outputs": [],
   "source": [],
   "metadata": {
    "collapsed": false
   }
  }
 ],
 "metadata": {
  "kernelspec": {
   "display_name": "Python 3",
   "language": "python",
   "name": "python3"
  },
  "language_info": {
   "codemirror_mode": {
    "name": "ipython",
    "version": 2
   },
   "file_extension": ".py",
   "mimetype": "text/x-python",
   "name": "python",
   "nbconvert_exporter": "python",
   "pygments_lexer": "ipython2",
   "version": "2.7.6"
  }
 },
 "nbformat": 4,
 "nbformat_minor": 0
}
