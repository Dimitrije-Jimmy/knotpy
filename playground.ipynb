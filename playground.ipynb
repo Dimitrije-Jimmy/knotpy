{
 "cells": [
  {
   "cell_type": "code",
   "execution_count": 15,
   "metadata": {
    "collapsed": true
   },
   "outputs": [
    {
     "name": "stdout",
     "output_type": "stream",
     "text": [
      "({0}, {2}, {3})\n",
      "({0, 1}, {3}, {2})\n",
      "({2}, {0, 1}, {3})\n",
      "({2, 3}, {3}, {0, 1})\n",
      "({3, 4}, {0, 1}, {2, 3})\n",
      "({3, 4, 5}, {2, 3}, {0, 1})\n"
     ]
    }
   ],
   "source": [
    "from itertools import permutations\n",
    "d1 = {0}\n",
    "d2 = {2}\n",
    "d3 = {3}\n",
    "\n",
    "def zz(d1,d2,d3):\n",
    "    return enumerate(permutations([d1, d2, d3]))\n",
    "for i, x in zz(d1, d2, d3):\n",
    "    x[0].add(i)\n",
    "    print(x)"
   ]
  },
  {
   "cell_type": "code",
   "execution_count": 9,
   "outputs": [
    {
     "data": {
      "text/plain": "{0, 1}"
     },
     "execution_count": 9,
     "metadata": {},
     "output_type": "execute_result"
    }
   ],
   "source": [
    "d1"
   ],
   "metadata": {
    "collapsed": false
   }
  },
  {
   "cell_type": "code",
   "execution_count": null,
   "outputs": [],
   "source": [],
   "metadata": {
    "collapsed": false
   }
  }
 ],
 "metadata": {
  "kernelspec": {
   "display_name": "Python 3",
   "language": "python",
   "name": "python3"
  },
  "language_info": {
   "codemirror_mode": {
    "name": "ipython",
    "version": 2
   },
   "file_extension": ".py",
   "mimetype": "text/x-python",
   "name": "python",
   "nbconvert_exporter": "python",
   "pygments_lexer": "ipython2",
   "version": "2.7.6"
  }
 },
 "nbformat": 4,
 "nbformat_minor": 0
}
